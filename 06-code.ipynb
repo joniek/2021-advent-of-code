{
 "cells": [
  {
   "cell_type": "code",
   "execution_count": 19,
   "metadata": {},
   "outputs": [
    {
     "name": "stdout",
     "output_type": "stream",
     "text": [
      "300\n",
      "[4, 3, 3, 5, 4, 1, 2, 1, 3, 1, 1, 1, 1, 1, 2, 4, 1, 3, 3, 1, 1, 1, 1, 2, 3, 1, 1, 1, 4, 1, 1, 2, 1, 2, 2, 1, 1, 1, 1, 1, 5, 1, 1, 2, 1, 1, 1, 1, 1, 1, 1, 1, 1, 3, 1, 1, 1, 1, 1, 1, 1, 1, 5, 1, 4, 2, 1, 1, 2, 1, 3, 1, 1, 2, 2, 1, 1, 1, 1, 1, 1, 1, 1, 1, 1, 4, 1, 3, 2, 2, 3, 1, 1, 1, 4, 1, 1, 1, 1, 5, 1, 1, 1, 5, 1, 1, 3, 1, 1, 2, 4, 1, 1, 3, 2, 4, 1, 1, 1, 1, 1, 5, 5, 1, 1, 1, 1, 1, 1, 4, 1, 1, 1, 3, 2, 1, 1, 5, 1, 1, 1, 1, 1, 1, 1, 5, 4, 1, 5, 1, 3, 4, 1, 1, 1, 1, 2, 1, 2, 1, 1, 1, 2, 2, 1, 2, 3, 5, 1, 1, 1, 1, 3, 5, 1, 1, 1, 2, 1, 1, 4, 1, 1, 5, 1, 4, 1, 2, 1, 3, 1, 5, 1, 4, 3, 1, 3, 2, 1, 1, 1, 2, 2, 1, 1, 1, 1, 4, 5, 1, 1, 1, 1, 1, 3, 1, 3, 4, 1, 1, 4, 1, 1, 3, 1, 3, 1, 1, 4, 5, 4, 3, 2, 5, 1, 1, 1, 1, 1, 1, 2, 1, 5, 2, 5, 3, 1, 1, 1, 1, 1, 3, 1, 1, 1, 1, 5, 1, 2, 1, 2, 1, 1, 1, 1, 2, 1, 1, 1, 1, 1, 1, 1, 3, 3, 1, 1, 5, 1, 3, 5, 5, 1, 1, 1, 2, 1, 2, 1, 5, 1, 1, 1, 1, 2, 1, 1, 1, 2, 1]\n"
     ]
    }
   ],
   "source": [
    "import aocd\n",
    "input = [int(x) for x in aocd.get_data(session=id,day=6,year=2021).split(',')]\n",
    "\n",
    "print(len(input))\n",
    "print(input)\n"
   ]
  },
  {
   "cell_type": "code",
   "execution_count": null,
   "metadata": {},
   "outputs": [],
   "source": [
    "# Part 1\n",
    "print(len(input))\n",
    "\n",
    "for day in range(80):\n",
    "    add_fish = 0\n",
    "    for fish in range(len(input)):\n",
    "        if input[fish] != 0: input[fish] -= 1\n",
    "        elif input[fish] == 0: \n",
    "            input[fish] = 6\n",
    "            add_fish += 1\n",
    "    for baby in range(add_fish):\n",
    "        input.append(8)\n",
    "\n",
    "print(len(input))\n",
    "\n"
   ]
  },
  {
   "cell_type": "code",
   "execution_count": null,
   "metadata": {},
   "outputs": [],
   "source": [
    "# Part 2\n",
    "\n",
    "# Create a dict\n",
    "reproduction = {0:0, 1:0, 2:0, 3:0, 4:0, 5:0, 6:0, 7:0, 8:0}\n",
    "\n",
    "# Add input into dict\n",
    "for i in input:\n",
    "    reproduction[i] = reproduction[i] + 1\n",
    "\n",
    "print(reproduction)\n",
    "\n",
    "# Move items around.\n",
    "for i in range(256):\n",
    "    # Identify new babies\n",
    "    babies = reproduction[0]\n",
    "\n",
    "    # Age the population and add babies.\n",
    "    for age in range(len(reproduction)):\n",
    "        if age != 8:\n",
    "            reproduction[age] = reproduction[age+1]\n",
    "        else:\n",
    "            reproduction[age] = babies\n",
    "\n",
    "    # Restart the new parents.\n",
    "    reproduction[6] = reproduction[6] + babies\n",
    "\n",
    "\n",
    "# count all the fish\n",
    "population = 0\n",
    "for i in reproduction:\n",
    "    population += reproduction[i]\n",
    "\n",
    "print(population)\n",
    "print(reproduction)"
   ]
  }
 ],
 "metadata": {
  "interpreter": {
   "hash": "8b3de4796a8f121c7b4cdaa5e7f5c16ba3592c3b1bd7852620d202dc730974d8"
  },
  "kernelspec": {
   "display_name": "Python 3.8.8 64-bit ('base': conda)",
   "language": "python",
   "name": "python3"
  },
  "language_info": {
   "codemirror_mode": {
    "name": "ipython",
    "version": 3
   },
   "file_extension": ".py",
   "mimetype": "text/x-python",
   "name": "python",
   "nbconvert_exporter": "python",
   "pygments_lexer": "ipython3",
   "version": "3.8.8"
  },
  "orig_nbformat": 4
 },
 "nbformat": 4,
 "nbformat_minor": 2
}
