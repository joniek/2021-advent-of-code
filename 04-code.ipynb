{
 "cells": [
  {
   "cell_type": "code",
   "execution_count": 167,
   "metadata": {},
   "outputs": [],
   "source": [
    "import aocd\n",
    "input = aocd.get_data(session=id,day=4,year=2021).splitlines()\n",
    "# print(len(input))\n",
    "# print(input)\n"
   ]
  },
  {
   "cell_type": "code",
   "execution_count": 168,
   "metadata": {},
   "outputs": [],
   "source": [
    "# Processing the input\n",
    "calls = []\n",
    "cards = []\n",
    "card = []\n",
    "\n",
    "for i in input: \n",
    "    if len(i) > 14: \n",
    "        calls = [int(x) for x in i.split(',')]\n",
    "    if len(i) == 14: \n",
    "        line = i.split(' ')\n",
    "        count = len(line)-1\n",
    "        while count >= 0: \n",
    "            if line[count] == '':\n",
    "                line.pop(count)  \n",
    "            else: \n",
    "                line[count] = int(line[count])\n",
    "            count -= 1\n",
    "        card.append(line)\n",
    "    if len(i) == 0 and len(card) > 0:\n",
    "        cards.append(card)\n",
    "        card = []\n",
    "\n",
    "cards.append(card)\n",
    "\n",
    "\n",
    "# marks each number as '' if it comes up.\n",
    "def mark_card(draw):\n",
    "    changes = 0\n",
    "    for card in range(len(cards)):\n",
    "        for line in range(len(cards[card])):\n",
    "            for num in range(len(cards[card][line])):\n",
    "                if cards[card][line][num] == draw: \n",
    "                    cards[card][line][num] = ''\n",
    "                    changes += 1\n",
    "    return changes\n",
    "\n",
    "\n",
    "# Checks the card for a complete row or column and returns the result.\n",
    "def card_counter(card):\n",
    "    for row in card:\n",
    "        if row[0] == '' and row[1] == '' and row[2] == '' and row[3] == '' and row[4] == '': \n",
    "            return counter(card)\n",
    "    for col in range(5):\n",
    "        if card[0][col] == '' and card[1][col] == '' and card[2][col] == '' and card[3][col] == '' and card[4][col] == '':\n",
    "            return counter(card)\n",
    "    return -1\n",
    "\n",
    "    \n",
    "# Totals the unmarked numbers on a card.\n",
    "def counter(card):\n",
    "    total = 0\n",
    "    for line in card:\n",
    "        for l in line:\n",
    "            if l != '': total += l\n",
    "    return total\n"
   ]
  },
  {
   "cell_type": "code",
   "execution_count": null,
   "metadata": {},
   "outputs": [],
   "source": [
    "# Part 1: first winning card.\n",
    "\n",
    "call = 0\n",
    "result = 0\n",
    "winningcard = -1\n",
    "\n",
    "\n",
    "while call < len(calls) and winningcard == -1:\n",
    "    mark_card(calls[call])\n",
    "    # print_card()\n",
    "    for c in range(len(cards)):\n",
    "        result = card_counter(cards[c])\n",
    "        if result != -1: winningcard = c\n",
    "    call += 1\n",
    "\n",
    "print(counter(cards[winningcard])*calls[call-1])\n",
    "\n",
    "# Wrong answer 2225, 1602 too low."
   ]
  },
  {
   "cell_type": "code",
   "execution_count": 169,
   "metadata": {},
   "outputs": [
    {
     "name": "stdout",
     "output_type": "stream",
     "text": [
      "64\n",
      "55\n",
      "17435\n"
     ]
    }
   ],
   "source": [
    "# Part 2: Last winning card.\n",
    "# wrong answer 24661\n",
    "\n",
    "call = 0\n",
    "result = 0\n",
    "winningcards = []\n",
    "\n",
    "\n",
    "while call < len(calls) and len(winningcards) < len(cards):\n",
    "    mark_card(calls[call])\n",
    "    for c in range(len(cards)):\n",
    "        result = card_counter(cards[c])\n",
    "        if result != -1 and c not in winningcards: winningcards.append(c)\n",
    "    call += 1\n",
    "\n",
    "print(winningcards[-1])\n",
    "print(calls[call-1])\n",
    "print(counter(cards[winningcards[-1]])*calls[call-1])\n",
    "\n"
   ]
  }
 ],
 "metadata": {
  "interpreter": {
   "hash": "8b3de4796a8f121c7b4cdaa5e7f5c16ba3592c3b1bd7852620d202dc730974d8"
  },
  "kernelspec": {
   "display_name": "Python 3.8.8 64-bit ('base': conda)",
   "language": "python",
   "name": "python3"
  },
  "language_info": {
   "codemirror_mode": {
    "name": "ipython",
    "version": 3
   },
   "file_extension": ".py",
   "mimetype": "text/x-python",
   "name": "python",
   "nbconvert_exporter": "python",
   "pygments_lexer": "ipython3",
   "version": "3.8.8"
  },
  "orig_nbformat": 4
 },
 "nbformat": 4,
 "nbformat_minor": 2
}
