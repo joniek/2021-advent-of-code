{
 "cells": [
  {
   "cell_type": "code",
   "execution_count": 18,
   "metadata": {},
   "outputs": [
    {
     "name": "stdout",
     "output_type": "stream",
     "text": [
      "100 100\n"
     ]
    }
   ],
   "source": [
    "import aocd\n",
    "input = [list(int(y) for y in x) for x in aocd.get_data(session=id,day=9,year=2021).splitlines()]\n",
    "# input = [x.split(' | ') for x in aocd.get_data(session=id,day=8,year=2021).splitlines()]\n",
    "\n",
    "print(len(input[0]),len(input))\n",
    "# print(input)\n",
    "# print(min(input),max(input))\n",
    "\n"
   ]
  },
  {
   "cell_type": "code",
   "execution_count": 53,
   "metadata": {},
   "outputs": [
    {
     "name": "stdout",
     "output_type": "stream",
     "text": [
      "425\n",
      "1135260\n"
     ]
    }
   ],
   "source": [
    "# Part 1 and 2\n",
    "smallest = []\n",
    "areas = []\n",
    "basins = []\n",
    "\n",
    "for row in range(len(input)):\n",
    "    for col in range(len(input[0])):\n",
    "\n",
    "        direction = []\n",
    "        if row - 1 >= 0: direction.append(input[row - 1][col])\n",
    "        if row + 1 < len(input): direction.append(input[row + 1][col])\n",
    "        if col - 1 >= 0: direction.append(input[row][col -1])\n",
    "        if col + 1 < len(input[0]): direction.append(input[row][col + 1])\n",
    "\n",
    "        if input[row][col] < min(direction):\n",
    "            smallest.append(input[row][col]) # Part 1 \n",
    "\n",
    "            # Part 2 - basins\n",
    "            basin = [[row,col]]\n",
    "            for r,c in basin:\n",
    "                if r-1 >= 0 and input[r-1][c] != 9 and [r-1,c] not in basin:\n",
    "                    basin.append([r-1,c])\n",
    "                if r+1 < len(input) and input[r+1][c] != 9 and [r+1,c] not in basin:\n",
    "                    basin.append([r+1,c])\n",
    "                if c-1 >= 0 and input[r][c-1] != 9 and [r,c-1] not in basin:\n",
    "                    basin.append([r,c-1])\n",
    "                if c+1 < len(input[0]) and input[r][c+1] != 9 and [r,c+1] not in basin:\n",
    "                    basin.append([r,c+1])\n",
    "\n",
    "            areas.append(len(basin))\n",
    "            \n",
    "            \n",
    "# Part 1 answer\n",
    "print(sum(smallest) + len(smallest)) \n",
    "\n",
    "# Part 2 answer\n",
    "areas.sort()\n",
    "print(areas[-1]*areas[-2]*areas[-3])"
   ]
  }
 ],
 "metadata": {
  "interpreter": {
   "hash": "8b3de4796a8f121c7b4cdaa5e7f5c16ba3592c3b1bd7852620d202dc730974d8"
  },
  "kernelspec": {
   "display_name": "Python 3.8.8 64-bit ('base': conda)",
   "language": "python",
   "name": "python3"
  },
  "language_info": {
   "codemirror_mode": {
    "name": "ipython",
    "version": 3
   },
   "file_extension": ".py",
   "mimetype": "text/x-python",
   "name": "python",
   "nbconvert_exporter": "python",
   "pygments_lexer": "ipython3",
   "version": "3.8.8"
  },
  "orig_nbformat": 4
 },
 "nbformat": 4,
 "nbformat_minor": 2
}
