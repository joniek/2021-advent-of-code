{
 "cells": [
  {
   "cell_type": "code",
   "execution_count": 21,
   "metadata": {},
   "outputs": [],
   "source": [
    "import aocd\n",
    "input = aocd.get_data(session=id).splitlines()\n",
    "values = []\n",
    "for i in input: \n",
    "    values.append(i.split(\" \"))\n",
    "# print(values)\n"
   ]
  },
  {
   "cell_type": "code",
   "execution_count": 22,
   "metadata": {},
   "outputs": [
    {
     "name": "stdout",
     "output_type": "stream",
     "text": [
      "2322630\n"
     ]
    }
   ],
   "source": [
    "# Part 1\n",
    "horizontal = 0\n",
    "vertical = 0\n",
    "\n",
    "for i in range(len(values)):\n",
    "    if values[i][0] == 'forward':\n",
    "        horizontal += int(values[i][1])\n",
    "    if values[i][0] == 'down':\n",
    "        vertical += int(values[i][1])\n",
    "    if values[i][0] == 'up':\n",
    "        vertical -= int(values[i][1])\n",
    "\n",
    "\n",
    "\n",
    "print(horizontal*vertical)\n"
   ]
  },
  {
   "cell_type": "code",
   "execution_count": 23,
   "metadata": {},
   "outputs": [
    {
     "name": "stdout",
     "output_type": "stream",
     "text": [
      "2105273490\n"
     ]
    }
   ],
   "source": [
    "# Part 2\n",
    "horizontal = 0\n",
    "vertical = 0\n",
    "aim = 0\n",
    "\n",
    "for i in range(len(values)):\n",
    "    if values[i][0] == 'forward':\n",
    "        horizontal += int(values[i][1])\n",
    "        vertical += aim * int(values[i][1])\n",
    "    if values[i][0] == 'down':\n",
    "        aim += int(values[i][1])\n",
    "    if values[i][0] == 'up':\n",
    "        aim -= int(values[i][1])\n",
    "\n",
    "\n",
    "\n",
    "print(horizontal*vertical)\n",
    "\n"
   ]
  }
 ],
 "metadata": {
  "interpreter": {
   "hash": "8b3de4796a8f121c7b4cdaa5e7f5c16ba3592c3b1bd7852620d202dc730974d8"
  },
  "kernelspec": {
   "display_name": "Python 3.8.8 64-bit ('base': conda)",
   "language": "python",
   "name": "python3"
  },
  "language_info": {
   "codemirror_mode": {
    "name": "ipython",
    "version": 3
   },
   "file_extension": ".py",
   "mimetype": "text/x-python",
   "name": "python",
   "nbconvert_exporter": "python",
   "pygments_lexer": "ipython3",
   "version": "3.8.8"
  },
  "orig_nbformat": 4
 },
 "nbformat": 4,
 "nbformat_minor": 2
}
