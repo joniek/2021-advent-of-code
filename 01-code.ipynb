{
 "cells": [
  {
   "cell_type": "code",
   "execution_count": 32,
   "metadata": {},
   "outputs": [],
   "source": [
    "import os\n",
    "\n",
    "folderpath = '/GitHub/2021-advent-of-code'\n",
    "# filename = '01-sample.txt'\n",
    "filename = '01-input.txt'\n",
    "\n",
    "\n",
    "with open(os.path.join(folderpath,filename), 'r') as f:\n",
    "    input = f.read().split('\\n')\n",
    "\n",
    "# print(input)\n",
    "\n",
    "# change to int\n",
    "input_int = []\n",
    "for i in input:\n",
    "    input_int.append(int(i))\n",
    "\n"
   ]
  },
  {
   "cell_type": "code",
   "execution_count": 11,
   "metadata": {},
   "outputs": [
    {
     "name": "stdout",
     "output_type": "stream",
     "text": [
      "1688\n"
     ]
    }
   ],
   "source": [
    "# Part 1\n",
    "#wrong 1687\n",
    "#correct 1688\n",
    "\n",
    "inc = 0\n",
    "dec = 0\n",
    "prev = -1\n",
    "\n",
    "for num in input:\n",
    "    if prev == -1:\n",
    "        prev = num\n",
    "    else:\n",
    "        if int(num) > int(prev):\n",
    "            inc+=1\n",
    "        else:\n",
    "            dec+=1\n",
    "    prev =  num\n",
    "\n",
    "print(inc)\n",
    "# print(dec)\n"
   ]
  },
  {
   "cell_type": "code",
   "execution_count": 33,
   "metadata": {},
   "outputs": [
    {
     "name": "stdout",
     "output_type": "stream",
     "text": [
      "1728\n"
     ]
    }
   ],
   "source": [
    "# Part 2\n",
    "\n",
    "inc = 0\n",
    "prev = 0\n",
    "\n",
    "for i in range(len(input)-2):\n",
    "    if prev != 0 and (sum(input_int[i:i+3]) > prev):\n",
    "        inc+=1\n",
    "    prev = sum(input_int[i:i+3])\n",
    "\n",
    "print(inc)\n"
   ]
  }
 ],
 "metadata": {
  "interpreter": {
   "hash": "8b3de4796a8f121c7b4cdaa5e7f5c16ba3592c3b1bd7852620d202dc730974d8"
  },
  "kernelspec": {
   "display_name": "Python 3.8.8 64-bit ('base': conda)",
   "language": "python",
   "name": "python3"
  },
  "language_info": {
   "codemirror_mode": {
    "name": "ipython",
    "version": 3
   },
   "file_extension": ".py",
   "mimetype": "text/x-python",
   "name": "python",
   "nbconvert_exporter": "python",
   "pygments_lexer": "ipython3",
   "version": "3.8.8"
  },
  "orig_nbformat": 4
 },
 "nbformat": 4,
 "nbformat_minor": 2
}
