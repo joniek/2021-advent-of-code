{
 "cells": [
  {
   "cell_type": "code",
   "execution_count": 71,
   "metadata": {},
   "outputs": [
    {
     "name": "stdout",
     "output_type": "stream",
     "text": [
      "105 94\n",
      "['[', '{', '{', '{', '{', '{', '<', '(', '[', '(', '{', '{', '<', '[', '<', '>', '(', ')', ']', '[', '{', '}', '(', ')', ']', '>', '{', '<', '{', '}', '{', '}', '>', '{', '[', ']', '{', '}', '}', '}', '}', '{', '(', '{', '{', '}', '{', '}', ']', '[', '<', '>', '{', '}', ']', ')', '(', '<', '<', '>', '(', ')', '>', '<', '{', '}', '<', '>', '>', ')', '}', '}', '<', '[', '<', '(', '{', '}', '(', ')', ')', '<', '{', '}', '{', '}', '>', '>', '[', '[', '(', ')', '[', ']', ']', '(', '<', '>', '[', ']', ')', ']', ']', '<', '(']\n"
     ]
    }
   ],
   "source": [
    "import aocd\n",
    "input = [list(x) for x in aocd.get_data(session=id,day=10,year=2021).splitlines()]\n",
    "\n",
    "print(len(input[0]),len(input))\n",
    "print(input[0])\n",
    "\n"
   ]
  },
  {
   "cell_type": "code",
   "execution_count": 79,
   "metadata": {},
   "outputs": [
    {
     "name": "stdout",
     "output_type": "stream",
     "text": [
      "413733  Part 1\n",
      "3354640192  Part 2\n"
     ]
    }
   ],
   "source": [
    "# Part 1\n",
    "syntax = {'}':'{',']':'[',')':'(','>':'<','}':'{','[':']','(':')','<':'>'}\n",
    "opener = ['{','[','<','(']\n",
    "sightings = {'}':0,']':0,')':0,'>':0}\n",
    "points = {'}':1197,']':57,')':3,'>':25137}\n",
    "autocompleteTotal = []\n",
    "autopoints = {'{':3,'[':2,'(':1,'<':4}\n",
    "\n",
    "for row in input:\n",
    "    opens = []\n",
    "    corrupted = False\n",
    "    for col in row:\n",
    "        if col in opener:\n",
    "            opens.append(col)\n",
    "        elif opens[-1] == syntax[col]:\n",
    "            opens.pop(-1)\n",
    "        else:       # Identifies corrupted lines.\n",
    "            sightings[col] += 1\n",
    "            corrupted = True \n",
    "            break\n",
    "\n",
    "    # Part 2 - autocomplete scoring\n",
    "    if corrupted == False: \n",
    "        autoscore = 0\n",
    "        while len(opens) > 0:\n",
    "            autoscore = (autoscore * 5) + autopoints[opens[-1]]\n",
    "            opens.pop(-1)\n",
    "        autocompleteTotal.append(autoscore)\n",
    "\n",
    "# Part 1 score\n",
    "score = 0\n",
    "for i in sightings:\n",
    "    score += (sightings[i]*points[i])\n",
    "print(score,' Part 1')\n",
    "\n",
    "# Part 2 score\n",
    "autocompleteTotal.sort()\n",
    "print(autocompleteTotal[round(len(autocompleteTotal)/2)-1],' Part 2')\n",
    "\n",
    "# Wrong answer: 1193820466, 346605913683,3366755364"
   ]
  }
 ],
 "metadata": {
  "interpreter": {
   "hash": "8b3de4796a8f121c7b4cdaa5e7f5c16ba3592c3b1bd7852620d202dc730974d8"
  },
  "kernelspec": {
   "display_name": "Python 3.8.8 64-bit ('base': conda)",
   "language": "python",
   "name": "python3"
  },
  "language_info": {
   "codemirror_mode": {
    "name": "ipython",
    "version": 3
   },
   "file_extension": ".py",
   "mimetype": "text/x-python",
   "name": "python",
   "nbconvert_exporter": "python",
   "pygments_lexer": "ipython3",
   "version": "3.8.8"
  },
  "orig_nbformat": 4
 },
 "nbformat": 4,
 "nbformat_minor": 2
}
