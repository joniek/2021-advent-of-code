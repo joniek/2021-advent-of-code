{
 "cells": [
  {
   "cell_type": "code",
   "execution_count": 365,
   "metadata": {},
   "outputs": [],
   "source": [
    "import aocd\n",
    "input = aocd.get_data(session=id,day=5,year=2021).splitlines()\n",
    "# print(len(input))\n",
    "# print(input)\n"
   ]
  },
  {
   "cell_type": "code",
   "execution_count": null,
   "metadata": {},
   "outputs": [],
   "source": [
    "# Processing input\n",
    "max = [0,0]\n",
    "\n",
    "for i in range(len(input)):\n",
    "    input[i] = input[i].split(' -> ')\n",
    "    for n in range(len(input[i])):\n",
    "        input[i][n] = input[i][n].split(',')\n",
    "        for x in range(len(input[i][n])):\n",
    "            input[i][n][x] = int(input[i][n][x])\n",
    "            if input[i][n][x] > max[x]: max[x] = input[i][n][x]\n",
    "\n",
    "field = [[0 for col in range(max[0]+1)] for row in range(max[1]+1)]\n",
    "\n",
    "print(max)\n",
    "print(len(field),len(field[0]))\n",
    "print(input[-1])\n"
   ]
  },
  {
   "cell_type": "code",
   "execution_count": 299,
   "metadata": {},
   "outputs": [],
   "source": [
    "# Part 1\n",
    "# Wrong answer 970189, 21685 too high, 21766 too high.\n",
    "\n",
    "def plot_field_1(y1,x1,y2,x2):\n",
    "    if x1 == x2 or y1 == y2:\n",
    "        if x1 < x2: xmin, xmax = x1, x2  \n",
    "        else: xmin, xmax = x2, x1\n",
    "\n",
    "        if y1 < y2: ymin, ymax = y1, y2  \n",
    "        else: ymin, ymax = y2, y1\n",
    "\n",
    "        while xmin != xmax or ymin != ymax:\n",
    "            field[xmin][ymin] += 1\n",
    "            if xmin != xmax: xmin += 1\n",
    "            if ymin != ymax: ymin += 1\n",
    "\n",
    "        field[xmin][ymin] += 1\n",
    "\n",
    "\n",
    "for i in range(len(input)):\n",
    "    # print(input[i])\n",
    "    plot_field_1(input[i][0][0],input[i][0][1],input[i][1][0],input[i][1][1])\n",
    "\n",
    "\n",
    "points = 0\n",
    "for x in field:\n",
    "    for y in x:\n",
    "        if y >= 2: points += 1\n",
    "\n",
    "print(points)\n"
   ]
  },
  {
   "cell_type": "code",
   "execution_count": 367,
   "metadata": {},
   "outputs": [],
   "source": [
    "# Part 2\n",
    "def plot_field_2(y1,x1,y2,x2):\n",
    "    if x1 == x2 or y1 == y2 or ((x1-x2) == (y1-y2)) or (abs(x1-x2) == abs(y1-y2)):\n",
    "        if x1 < x2: xmin, xmax = x1, x2  \n",
    "        else: xmin, xmax = x2, x1\n",
    "\n",
    "        if y1 < y2: ymin, ymax = y1, y2  \n",
    "        else: ymin, ymax = y2, y1\n",
    "\n",
    "        if x1 == x2 or y1 == y2 or ((x1-x2) == (y1-y2)):\n",
    "            while xmin != xmax or ymin != ymax:\n",
    "                field[xmin][ymin] += 1\n",
    "                if xmin != xmax: xmin += 1\n",
    "                if ymin != ymax: ymin += 1\n",
    "\n",
    "            field[xmin][ymin] += 1\n",
    "\n",
    "        elif (abs(x1-x2) == abs(y1-y2)):\n",
    "            while xmin != xmax or ymin != ymax:\n",
    "                field[xmin][ymax] += 1\n",
    "                if xmin != xmax: xmin += 1\n",
    "                if ymax != ymin: ymax -= 1\n",
    "            field[xmin][ymax] += 1\n",
    "\n",
    "\n",
    "for i in range(len(input)):\n",
    "    # print(input[i])\n",
    "    plot_field_2(input[i][0][0],input[i][0][1],input[i][1][0],input[i][1][1])\n",
    "\n",
    "\n",
    "points = 0\n",
    "for x in field:\n",
    "    for y in x:\n",
    "        if y >= 2: points += 1\n",
    "\n",
    "print(points)\n"
   ]
  }
 ],
 "metadata": {
  "interpreter": {
   "hash": "8b3de4796a8f121c7b4cdaa5e7f5c16ba3592c3b1bd7852620d202dc730974d8"
  },
  "kernelspec": {
   "display_name": "Python 3.8.8 64-bit ('base': conda)",
   "language": "python",
   "name": "python3"
  },
  "language_info": {
   "codemirror_mode": {
    "name": "ipython",
    "version": 3
   },
   "file_extension": ".py",
   "mimetype": "text/x-python",
   "name": "python",
   "nbconvert_exporter": "python",
   "pygments_lexer": "ipython3",
   "version": "3.8.8"
  },
  "orig_nbformat": 4
 },
 "nbformat": 4,
 "nbformat_minor": 2
}
