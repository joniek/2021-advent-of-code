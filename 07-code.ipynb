{
 "cells": [
  {
   "cell_type": "code",
   "execution_count": null,
   "metadata": {},
   "outputs": [],
   "source": [
    "import aocd\n",
    "input = [int(x) for x in aocd.get_data(session=id,day=7,year=2021).split(',')]\n",
    "# input = aocd.get_data(session=id,day=7,year=2021).splitlines()\n",
    "\n",
    "print(len(input))\n",
    "# print(input)\n",
    "print(min(input),max(input))\n",
    "\n",
    "positions = {}\n",
    "\n",
    "for i in input:\n",
    "    if i in positions:\n",
    "        positions[i] = positions[i] + 1\n",
    "    else: positions[i] = 1\n",
    "\n",
    "print(len(positions))\n"
   ]
  },
  {
   "cell_type": "code",
   "execution_count": 24,
   "metadata": {},
   "outputs": [
    {
     "name": "stdout",
     "output_type": "stream",
     "text": [
      "648\n",
      "335271\n"
     ]
    }
   ],
   "source": [
    "# Part 1\n",
    "\n",
    "fuel_consumption = {}\n",
    "\n",
    "for end_pos in range(max(input)):\n",
    "    fuel_consumption[end_pos] = 0\n",
    "    for pos in positions.keys():\n",
    "        if end_pos < pos: \n",
    "            fuel_consumption[end_pos] = fuel_consumption[end_pos] + (positions[pos] * (pos - end_pos))\n",
    "        elif end_pos > pos:\n",
    "            fuel_consumption[end_pos] = fuel_consumption[end_pos] + (positions[pos] * (end_pos - pos))\n",
    "\n",
    "print(min(fuel_consumption.values()))\n"
   ]
  },
  {
   "cell_type": "code",
   "execution_count": 33,
   "metadata": {},
   "outputs": [],
   "source": [
    "# Part 2\n",
    "# wrong answer 69887199\n",
    "\n",
    "def counter(number):\n",
    "    total = 0\n",
    "    while number > 0:\n",
    "        total += number\n",
    "        number -= 1\n",
    "    return total\n",
    "\n",
    "fuel_dict = {}\n",
    "\n",
    "for i in range(max(input)+1):\n",
    "    fuel_dict[i] = counter(i)\n",
    "\n",
    "print(len(fuel_dict))\n",
    "\n",
    "fuel_consumption = {}\n",
    "\n",
    "for end_pos in range(max(input)):\n",
    "    fuel_consumption[end_pos] = 0\n",
    "    for pos in positions.keys():\n",
    "        if end_pos < pos: \n",
    "            fuel_consumption[end_pos] = fuel_consumption[end_pos] + (fuel_dict[pos - end_pos] * positions[pos])\n",
    "        elif end_pos > pos:\n",
    "            fuel_consumption[end_pos] = fuel_consumption[end_pos] + (fuel_dict[end_pos - pos] * positions[pos])\n",
    "\n",
    "print(min(fuel_consumption.values()))\n"
   ]
  }
 ],
 "metadata": {
  "interpreter": {
   "hash": "8b3de4796a8f121c7b4cdaa5e7f5c16ba3592c3b1bd7852620d202dc730974d8"
  },
  "kernelspec": {
   "display_name": "Python 3.8.8 64-bit ('base': conda)",
   "language": "python",
   "name": "python3"
  },
  "language_info": {
   "codemirror_mode": {
    "name": "ipython",
    "version": 3
   },
   "file_extension": ".py",
   "mimetype": "text/x-python",
   "name": "python",
   "nbconvert_exporter": "python",
   "pygments_lexer": "ipython3",
   "version": "3.8.8"
  },
  "orig_nbformat": 4
 },
 "nbformat": 4,
 "nbformat_minor": 2
}
