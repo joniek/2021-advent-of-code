{
 "cells": [
  {
   "cell_type": "code",
   "execution_count": 53,
   "metadata": {},
   "outputs": [
    {
     "name": "stdout",
     "output_type": "stream",
     "text": [
      "200\n"
     ]
    }
   ],
   "source": [
    "import aocd\n",
    "input = [x.split(' | ') for x in aocd.get_data(session=id,day=8,year=2021).splitlines()]\n",
    "\n",
    "print(len(input))\n",
    "# print(input)\n",
    "# print(min(input),max(input))\n",
    "\n"
   ]
  },
  {
   "cell_type": "code",
   "execution_count": 59,
   "metadata": {},
   "outputs": [
    {
     "name": "stdout",
     "output_type": "stream",
     "text": [
      "26\n"
     ]
    }
   ],
   "source": [
    "# Part 1\n",
    "# wrong 359, 8, 103, 26\n",
    "\n",
    "counter = 0\n",
    "targets = [2,3,4,7]\n",
    "\n",
    "for x in input:\n",
    "    codes = x.split(' ')\n",
    "\n",
    "    for code in codes:\n",
    "        if len(code) in targets:\n",
    "            counter += 1\n",
    "                \n",
    "\n",
    "print(counter)\n"
   ]
  },
  {
   "cell_type": "code",
   "execution_count": null,
   "metadata": {},
   "outputs": [],
   "source": [
    "# Part 2\n",
    "\n",
    "digits = {2:1,3:7,4:4,7:8}\n",
    "\n",
    "total = []\n",
    "\n",
    "for i in input:\n",
    "    # Format clues and codes\n",
    "    clues = i[0].split(' ')\n",
    "    codes = i[1].split(' ')\n",
    "\n",
    "    # Set up mapping dict and identify keystone numbers 1,4,7,8.\n",
    "    mapping = {0:'',1:'',2:'',3:'',4:'',5:'',6:'',7:'',8:'',9:''}\n",
    "    for clue in clues:\n",
    "        if len(clue) in digits:\n",
    "            mapping[digits[len(clue)]] = clue\n",
    "    \n",
    "    # Identify areas on the 7 segment display using keystone numbers.\n",
    "    a = list(mapping[1]) # Left\n",
    "    b = list(set(mapping[7]).difference(mapping[1]))[0] # top\n",
    "    c = list(set(mapping[4]).difference(mapping[1])) # top right and middle\n",
    "    d = list(set(mapping[8]).difference(mapping[4]).difference(mapping[7])) # bottom right and bottom\n",
    "\n",
    "    # Deduce the remaining numbers using sets and finding differences between sets.\n",
    "    for clue in clues:\n",
    "        if len(clue) == 6:\n",
    "            if len(set(list(clue)).difference(set(a)).difference(set(b)).difference(set(c))) == 1:\n",
    "                mapping[9] = clue\n",
    "            if len(set(list(clue)).difference(set(a)).difference(set(b)).difference(set(d))) == 1:\n",
    "                mapping[0] = clue\n",
    "            if len(set(list(clue)).difference(set(b)).difference(set(c)).difference(set(d))) == 1:\n",
    "                mapping[6] = clue\n",
    "\n",
    "        if len(clue) == 5:\n",
    "            if len(set(list(clue)).difference(set(a)).difference(set(b)).difference(set(c))) == 2:\n",
    "                mapping[2] = clue\n",
    "            if len(set(list(clue)).difference(set(a)).difference(set(b)).difference(set(d))) == 2:\n",
    "                mapping[5] = clue\n",
    "            if len(set(list(clue)).difference(set(b)).difference(set(c)).difference(set(d))) == 2:\n",
    "                mapping[3] = clue\n",
    "\n",
    "    # Decode.\n",
    "    decoded = []\n",
    "    for code in codes:\n",
    "        for map in mapping.values():\n",
    "            if len(map) == len(code) and len(set(code).difference(set(map))) == 0:\n",
    "                decoded.append(str(list(mapping.keys())[list(mapping.values()).index(map)]))\n",
    "    \n",
    "    # Add to total list.\n",
    "    total.append(int(''.join(decoded)))\n",
    "\n",
    "print(total)\n",
    "print(sum(total))"
   ]
  }
 ],
 "metadata": {
  "interpreter": {
   "hash": "8b3de4796a8f121c7b4cdaa5e7f5c16ba3592c3b1bd7852620d202dc730974d8"
  },
  "kernelspec": {
   "display_name": "Python 3.8.8 64-bit ('base': conda)",
   "language": "python",
   "name": "python3"
  },
  "language_info": {
   "codemirror_mode": {
    "name": "ipython",
    "version": 3
   },
   "file_extension": ".py",
   "mimetype": "text/x-python",
   "name": "python",
   "nbconvert_exporter": "python",
   "pygments_lexer": "ipython3",
   "version": "3.8.8"
  },
  "orig_nbformat": 4
 },
 "nbformat": 4,
 "nbformat_minor": 2
}
